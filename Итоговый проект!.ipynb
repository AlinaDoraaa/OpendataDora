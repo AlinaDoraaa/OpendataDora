{
 "cells": [
  {
   "cell_type": "code",
   "execution_count": 3,
   "id": "05a4b589",
   "metadata": {},
   "outputs": [],
   "source": [
    "import pandas as pd\n",
    "import numpy as np"
   ]
  },
  {
   "cell_type": "markdown",
   "id": "e8071cad",
   "metadata": {},
   "source": [
    "# Проведем разведочный анализ!"
   ]
  },
  {
   "cell_type": "code",
   "execution_count": 42,
   "id": "34c6f493",
   "metadata": {
    "scrolled": true
   },
   "outputs": [
    {
     "data": {
      "text/html": [
       "<div>\n",
       "<style scoped>\n",
       "    .dataframe tbody tr th:only-of-type {\n",
       "        vertical-align: middle;\n",
       "    }\n",
       "\n",
       "    .dataframe tbody tr th {\n",
       "        vertical-align: top;\n",
       "    }\n",
       "\n",
       "    .dataframe thead th {\n",
       "        text-align: right;\n",
       "    }\n",
       "</style>\n",
       "<table border=\"1\" class=\"dataframe\">\n",
       "  <thead>\n",
       "    <tr style=\"text-align: right;\">\n",
       "      <th></th>\n",
       "      <th>Unnamed: 0</th>\n",
       "      <th>Artist</th>\n",
       "      <th>Url_spotify</th>\n",
       "      <th>Track</th>\n",
       "      <th>Album</th>\n",
       "      <th>Album_type</th>\n",
       "      <th>Uri</th>\n",
       "      <th>Danceability</th>\n",
       "      <th>Energy</th>\n",
       "      <th>Key</th>\n",
       "      <th>...</th>\n",
       "      <th>Url_youtube</th>\n",
       "      <th>Title</th>\n",
       "      <th>Channel</th>\n",
       "      <th>Views</th>\n",
       "      <th>Likes</th>\n",
       "      <th>Comments</th>\n",
       "      <th>Description</th>\n",
       "      <th>Licensed</th>\n",
       "      <th>official_video</th>\n",
       "      <th>Stream</th>\n",
       "    </tr>\n",
       "  </thead>\n",
       "  <tbody>\n",
       "    <tr>\n",
       "      <th>0</th>\n",
       "      <td>0</td>\n",
       "      <td>Gorillaz</td>\n",
       "      <td>https://open.spotify.com/artist/3AA28KZvwAUcZu...</td>\n",
       "      <td>Feel Good Inc.</td>\n",
       "      <td>Demon Days</td>\n",
       "      <td>album</td>\n",
       "      <td>spotify:track:0d28khcov6AiegSCpG5TuT</td>\n",
       "      <td>0.818</td>\n",
       "      <td>0.705</td>\n",
       "      <td>6.0</td>\n",
       "      <td>...</td>\n",
       "      <td>https://www.youtube.com/watch?v=HyHNuVaZJ-k</td>\n",
       "      <td>Gorillaz - Feel Good Inc. (Official Video)</td>\n",
       "      <td>Gorillaz</td>\n",
       "      <td>693555221.0</td>\n",
       "      <td>6220896.0</td>\n",
       "      <td>169907.0</td>\n",
       "      <td>Official HD Video for Gorillaz' fantastic trac...</td>\n",
       "      <td>True</td>\n",
       "      <td>True</td>\n",
       "      <td>1.040235e+09</td>\n",
       "    </tr>\n",
       "    <tr>\n",
       "      <th>1</th>\n",
       "      <td>1</td>\n",
       "      <td>Gorillaz</td>\n",
       "      <td>https://open.spotify.com/artist/3AA28KZvwAUcZu...</td>\n",
       "      <td>Rhinestone Eyes</td>\n",
       "      <td>Plastic Beach</td>\n",
       "      <td>album</td>\n",
       "      <td>spotify:track:1foMv2HQwfQ2vntFf9HFeG</td>\n",
       "      <td>0.676</td>\n",
       "      <td>0.703</td>\n",
       "      <td>8.0</td>\n",
       "      <td>...</td>\n",
       "      <td>https://www.youtube.com/watch?v=yYDmaexVHic</td>\n",
       "      <td>Gorillaz - Rhinestone Eyes [Storyboard Film] (...</td>\n",
       "      <td>Gorillaz</td>\n",
       "      <td>72011645.0</td>\n",
       "      <td>1079128.0</td>\n",
       "      <td>31003.0</td>\n",
       "      <td>The official video for Gorillaz - Rhinestone E...</td>\n",
       "      <td>True</td>\n",
       "      <td>True</td>\n",
       "      <td>3.100837e+08</td>\n",
       "    </tr>\n",
       "    <tr>\n",
       "      <th>2</th>\n",
       "      <td>2</td>\n",
       "      <td>Gorillaz</td>\n",
       "      <td>https://open.spotify.com/artist/3AA28KZvwAUcZu...</td>\n",
       "      <td>New Gold (feat. Tame Impala and Bootie Brown)</td>\n",
       "      <td>New Gold (feat. Tame Impala and Bootie Brown)</td>\n",
       "      <td>single</td>\n",
       "      <td>spotify:track:64dLd6rVqDLtkXFYrEUHIU</td>\n",
       "      <td>0.695</td>\n",
       "      <td>0.923</td>\n",
       "      <td>1.0</td>\n",
       "      <td>...</td>\n",
       "      <td>https://www.youtube.com/watch?v=qJa-VFwPpYA</td>\n",
       "      <td>Gorillaz - New Gold ft. Tame Impala &amp; Bootie B...</td>\n",
       "      <td>Gorillaz</td>\n",
       "      <td>8435055.0</td>\n",
       "      <td>282142.0</td>\n",
       "      <td>7399.0</td>\n",
       "      <td>Gorillaz - New Gold ft. Tame Impala &amp; Bootie B...</td>\n",
       "      <td>True</td>\n",
       "      <td>True</td>\n",
       "      <td>6.306347e+07</td>\n",
       "    </tr>\n",
       "    <tr>\n",
       "      <th>3</th>\n",
       "      <td>3</td>\n",
       "      <td>Gorillaz</td>\n",
       "      <td>https://open.spotify.com/artist/3AA28KZvwAUcZu...</td>\n",
       "      <td>On Melancholy Hill</td>\n",
       "      <td>Plastic Beach</td>\n",
       "      <td>album</td>\n",
       "      <td>spotify:track:0q6LuUqGLUiCPP1cbdwFs3</td>\n",
       "      <td>0.689</td>\n",
       "      <td>0.739</td>\n",
       "      <td>2.0</td>\n",
       "      <td>...</td>\n",
       "      <td>https://www.youtube.com/watch?v=04mfKJWDSzI</td>\n",
       "      <td>Gorillaz - On Melancholy Hill (Official Video)</td>\n",
       "      <td>Gorillaz</td>\n",
       "      <td>211754952.0</td>\n",
       "      <td>1788577.0</td>\n",
       "      <td>55229.0</td>\n",
       "      <td>Follow Gorillaz online:\\nhttp://gorillaz.com \\...</td>\n",
       "      <td>True</td>\n",
       "      <td>True</td>\n",
       "      <td>4.346636e+08</td>\n",
       "    </tr>\n",
       "    <tr>\n",
       "      <th>4</th>\n",
       "      <td>4</td>\n",
       "      <td>Gorillaz</td>\n",
       "      <td>https://open.spotify.com/artist/3AA28KZvwAUcZu...</td>\n",
       "      <td>Clint Eastwood</td>\n",
       "      <td>Gorillaz</td>\n",
       "      <td>album</td>\n",
       "      <td>spotify:track:7yMiX7n9SBvadzox8T5jzT</td>\n",
       "      <td>0.663</td>\n",
       "      <td>0.694</td>\n",
       "      <td>10.0</td>\n",
       "      <td>...</td>\n",
       "      <td>https://www.youtube.com/watch?v=1V_xRb0x9aw</td>\n",
       "      <td>Gorillaz - Clint Eastwood (Official Video)</td>\n",
       "      <td>Gorillaz</td>\n",
       "      <td>618480958.0</td>\n",
       "      <td>6197318.0</td>\n",
       "      <td>155930.0</td>\n",
       "      <td>The official music video for Gorillaz - Clint ...</td>\n",
       "      <td>True</td>\n",
       "      <td>True</td>\n",
       "      <td>6.172597e+08</td>\n",
       "    </tr>\n",
       "    <tr>\n",
       "      <th>...</th>\n",
       "      <td>...</td>\n",
       "      <td>...</td>\n",
       "      <td>...</td>\n",
       "      <td>...</td>\n",
       "      <td>...</td>\n",
       "      <td>...</td>\n",
       "      <td>...</td>\n",
       "      <td>...</td>\n",
       "      <td>...</td>\n",
       "      <td>...</td>\n",
       "      <td>...</td>\n",
       "      <td>...</td>\n",
       "      <td>...</td>\n",
       "      <td>...</td>\n",
       "      <td>...</td>\n",
       "      <td>...</td>\n",
       "      <td>...</td>\n",
       "      <td>...</td>\n",
       "      <td>...</td>\n",
       "      <td>...</td>\n",
       "      <td>...</td>\n",
       "    </tr>\n",
       "    <tr>\n",
       "      <th>20713</th>\n",
       "      <td>20713</td>\n",
       "      <td>SICK LEGEND</td>\n",
       "      <td>https://open.spotify.com/artist/3EYY5FwDkHEYLw...</td>\n",
       "      <td>JUST DANCE HARDSTYLE</td>\n",
       "      <td>JUST DANCE HARDSTYLE</td>\n",
       "      <td>single</td>\n",
       "      <td>spotify:track:0RtcKQGyI4hr8FgFH1TuYG</td>\n",
       "      <td>0.582</td>\n",
       "      <td>0.926</td>\n",
       "      <td>5.0</td>\n",
       "      <td>...</td>\n",
       "      <td>https://www.youtube.com/watch?v=5SHmKFKlNqI</td>\n",
       "      <td>JUST DANCE HARDSTYLE</td>\n",
       "      <td>SICK LEGEND - Topic</td>\n",
       "      <td>71678.0</td>\n",
       "      <td>1113.0</td>\n",
       "      <td>0.0</td>\n",
       "      <td>Provided to YouTube by Routenote\\n\\nJUST DANCE...</td>\n",
       "      <td>True</td>\n",
       "      <td>True</td>\n",
       "      <td>9.227144e+06</td>\n",
       "    </tr>\n",
       "    <tr>\n",
       "      <th>20714</th>\n",
       "      <td>20714</td>\n",
       "      <td>SICK LEGEND</td>\n",
       "      <td>https://open.spotify.com/artist/3EYY5FwDkHEYLw...</td>\n",
       "      <td>SET FIRE TO THE RAIN HARDSTYLE</td>\n",
       "      <td>SET FIRE TO THE RAIN HARDSTYLE</td>\n",
       "      <td>single</td>\n",
       "      <td>spotify:track:3rHvPA8lUnPBkaLyPOc0VV</td>\n",
       "      <td>0.531</td>\n",
       "      <td>0.936</td>\n",
       "      <td>4.0</td>\n",
       "      <td>...</td>\n",
       "      <td>https://www.youtube.com/watch?v=ocTH6KxllDQ</td>\n",
       "      <td>SET FIRE TO THE RAIN HARDSTYLE</td>\n",
       "      <td>SICK LEGEND - Topic</td>\n",
       "      <td>164741.0</td>\n",
       "      <td>2019.0</td>\n",
       "      <td>0.0</td>\n",
       "      <td>Provided to YouTube by Routenote\\n\\nSET FIRE T...</td>\n",
       "      <td>True</td>\n",
       "      <td>True</td>\n",
       "      <td>1.089818e+07</td>\n",
       "    </tr>\n",
       "    <tr>\n",
       "      <th>20715</th>\n",
       "      <td>20715</td>\n",
       "      <td>SICK LEGEND</td>\n",
       "      <td>https://open.spotify.com/artist/3EYY5FwDkHEYLw...</td>\n",
       "      <td>OUTSIDE HARDSTYLE SPED UP</td>\n",
       "      <td>OUTSIDE HARDSTYLE SPED UP</td>\n",
       "      <td>single</td>\n",
       "      <td>spotify:track:4jk00YxPtPbhvHJE9N4ddv</td>\n",
       "      <td>0.443</td>\n",
       "      <td>0.830</td>\n",
       "      <td>4.0</td>\n",
       "      <td>...</td>\n",
       "      <td>https://www.youtube.com/watch?v=5wFhE-HY0hg</td>\n",
       "      <td>OUTSIDE HARDSTYLE SPED UP</td>\n",
       "      <td>SICK LEGEND - Topic</td>\n",
       "      <td>35646.0</td>\n",
       "      <td>329.0</td>\n",
       "      <td>0.0</td>\n",
       "      <td>Provided to YouTube by Routenote\\n\\nOUTSIDE HA...</td>\n",
       "      <td>True</td>\n",
       "      <td>True</td>\n",
       "      <td>6.226110e+06</td>\n",
       "    </tr>\n",
       "    <tr>\n",
       "      <th>20716</th>\n",
       "      <td>20716</td>\n",
       "      <td>SICK LEGEND</td>\n",
       "      <td>https://open.spotify.com/artist/3EYY5FwDkHEYLw...</td>\n",
       "      <td>ONLY GIRL HARDSTYLE</td>\n",
       "      <td>ONLY GIRL HARDSTYLE</td>\n",
       "      <td>single</td>\n",
       "      <td>spotify:track:5EyErbpsugWliX006eTDex</td>\n",
       "      <td>0.417</td>\n",
       "      <td>0.767</td>\n",
       "      <td>9.0</td>\n",
       "      <td>...</td>\n",
       "      <td>https://www.youtube.com/watch?v=VMFLbFRNCn0</td>\n",
       "      <td>ONLY GIRL HARDSTYLE</td>\n",
       "      <td>SICK LEGEND - Topic</td>\n",
       "      <td>6533.0</td>\n",
       "      <td>88.0</td>\n",
       "      <td>0.0</td>\n",
       "      <td>Provided to YouTube by Routenote\\n\\nONLY GIRL ...</td>\n",
       "      <td>True</td>\n",
       "      <td>True</td>\n",
       "      <td>6.873961e+06</td>\n",
       "    </tr>\n",
       "    <tr>\n",
       "      <th>20717</th>\n",
       "      <td>20717</td>\n",
       "      <td>SICK LEGEND</td>\n",
       "      <td>https://open.spotify.com/artist/3EYY5FwDkHEYLw...</td>\n",
       "      <td>MISS YOU HARDSTYLE</td>\n",
       "      <td>MISS YOU HARDSTYLE</td>\n",
       "      <td>single</td>\n",
       "      <td>spotify:track:6lOn0jz1QpjcWeXo1oMm0k</td>\n",
       "      <td>0.498</td>\n",
       "      <td>0.938</td>\n",
       "      <td>6.0</td>\n",
       "      <td>...</td>\n",
       "      <td>https://www.youtube.com/watch?v=zau0dckCFi0</td>\n",
       "      <td>MISS YOU HARDSTYLE</td>\n",
       "      <td>SICK LEGEND - Topic</td>\n",
       "      <td>158697.0</td>\n",
       "      <td>2484.0</td>\n",
       "      <td>0.0</td>\n",
       "      <td>Provided to YouTube by Routenote\\n\\nMISS YOU H...</td>\n",
       "      <td>True</td>\n",
       "      <td>True</td>\n",
       "      <td>5.695584e+06</td>\n",
       "    </tr>\n",
       "  </tbody>\n",
       "</table>\n",
       "<p>20718 rows × 28 columns</p>\n",
       "</div>"
      ],
      "text/plain": [
       "       Unnamed: 0       Artist  \\\n",
       "0               0     Gorillaz   \n",
       "1               1     Gorillaz   \n",
       "2               2     Gorillaz   \n",
       "3               3     Gorillaz   \n",
       "4               4     Gorillaz   \n",
       "...           ...          ...   \n",
       "20713       20713  SICK LEGEND   \n",
       "20714       20714  SICK LEGEND   \n",
       "20715       20715  SICK LEGEND   \n",
       "20716       20716  SICK LEGEND   \n",
       "20717       20717  SICK LEGEND   \n",
       "\n",
       "                                             Url_spotify  \\\n",
       "0      https://open.spotify.com/artist/3AA28KZvwAUcZu...   \n",
       "1      https://open.spotify.com/artist/3AA28KZvwAUcZu...   \n",
       "2      https://open.spotify.com/artist/3AA28KZvwAUcZu...   \n",
       "3      https://open.spotify.com/artist/3AA28KZvwAUcZu...   \n",
       "4      https://open.spotify.com/artist/3AA28KZvwAUcZu...   \n",
       "...                                                  ...   \n",
       "20713  https://open.spotify.com/artist/3EYY5FwDkHEYLw...   \n",
       "20714  https://open.spotify.com/artist/3EYY5FwDkHEYLw...   \n",
       "20715  https://open.spotify.com/artist/3EYY5FwDkHEYLw...   \n",
       "20716  https://open.spotify.com/artist/3EYY5FwDkHEYLw...   \n",
       "20717  https://open.spotify.com/artist/3EYY5FwDkHEYLw...   \n",
       "\n",
       "                                               Track  \\\n",
       "0                                     Feel Good Inc.   \n",
       "1                                    Rhinestone Eyes   \n",
       "2      New Gold (feat. Tame Impala and Bootie Brown)   \n",
       "3                                 On Melancholy Hill   \n",
       "4                                     Clint Eastwood   \n",
       "...                                              ...   \n",
       "20713                           JUST DANCE HARDSTYLE   \n",
       "20714                 SET FIRE TO THE RAIN HARDSTYLE   \n",
       "20715                      OUTSIDE HARDSTYLE SPED UP   \n",
       "20716                            ONLY GIRL HARDSTYLE   \n",
       "20717                             MISS YOU HARDSTYLE   \n",
       "\n",
       "                                               Album Album_type  \\\n",
       "0                                         Demon Days      album   \n",
       "1                                      Plastic Beach      album   \n",
       "2      New Gold (feat. Tame Impala and Bootie Brown)     single   \n",
       "3                                      Plastic Beach      album   \n",
       "4                                           Gorillaz      album   \n",
       "...                                              ...        ...   \n",
       "20713                           JUST DANCE HARDSTYLE     single   \n",
       "20714                 SET FIRE TO THE RAIN HARDSTYLE     single   \n",
       "20715                      OUTSIDE HARDSTYLE SPED UP     single   \n",
       "20716                            ONLY GIRL HARDSTYLE     single   \n",
       "20717                             MISS YOU HARDSTYLE     single   \n",
       "\n",
       "                                        Uri  Danceability  Energy   Key  ...  \\\n",
       "0      spotify:track:0d28khcov6AiegSCpG5TuT         0.818   0.705   6.0  ...   \n",
       "1      spotify:track:1foMv2HQwfQ2vntFf9HFeG         0.676   0.703   8.0  ...   \n",
       "2      spotify:track:64dLd6rVqDLtkXFYrEUHIU         0.695   0.923   1.0  ...   \n",
       "3      spotify:track:0q6LuUqGLUiCPP1cbdwFs3         0.689   0.739   2.0  ...   \n",
       "4      spotify:track:7yMiX7n9SBvadzox8T5jzT         0.663   0.694  10.0  ...   \n",
       "...                                     ...           ...     ...   ...  ...   \n",
       "20713  spotify:track:0RtcKQGyI4hr8FgFH1TuYG         0.582   0.926   5.0  ...   \n",
       "20714  spotify:track:3rHvPA8lUnPBkaLyPOc0VV         0.531   0.936   4.0  ...   \n",
       "20715  spotify:track:4jk00YxPtPbhvHJE9N4ddv         0.443   0.830   4.0  ...   \n",
       "20716  spotify:track:5EyErbpsugWliX006eTDex         0.417   0.767   9.0  ...   \n",
       "20717  spotify:track:6lOn0jz1QpjcWeXo1oMm0k         0.498   0.938   6.0  ...   \n",
       "\n",
       "                                       Url_youtube  \\\n",
       "0      https://www.youtube.com/watch?v=HyHNuVaZJ-k   \n",
       "1      https://www.youtube.com/watch?v=yYDmaexVHic   \n",
       "2      https://www.youtube.com/watch?v=qJa-VFwPpYA   \n",
       "3      https://www.youtube.com/watch?v=04mfKJWDSzI   \n",
       "4      https://www.youtube.com/watch?v=1V_xRb0x9aw   \n",
       "...                                            ...   \n",
       "20713  https://www.youtube.com/watch?v=5SHmKFKlNqI   \n",
       "20714  https://www.youtube.com/watch?v=ocTH6KxllDQ   \n",
       "20715  https://www.youtube.com/watch?v=5wFhE-HY0hg   \n",
       "20716  https://www.youtube.com/watch?v=VMFLbFRNCn0   \n",
       "20717  https://www.youtube.com/watch?v=zau0dckCFi0   \n",
       "\n",
       "                                                   Title              Channel  \\\n",
       "0             Gorillaz - Feel Good Inc. (Official Video)             Gorillaz   \n",
       "1      Gorillaz - Rhinestone Eyes [Storyboard Film] (...             Gorillaz   \n",
       "2      Gorillaz - New Gold ft. Tame Impala & Bootie B...             Gorillaz   \n",
       "3         Gorillaz - On Melancholy Hill (Official Video)             Gorillaz   \n",
       "4             Gorillaz - Clint Eastwood (Official Video)             Gorillaz   \n",
       "...                                                  ...                  ...   \n",
       "20713                               JUST DANCE HARDSTYLE  SICK LEGEND - Topic   \n",
       "20714                     SET FIRE TO THE RAIN HARDSTYLE  SICK LEGEND - Topic   \n",
       "20715                          OUTSIDE HARDSTYLE SPED UP  SICK LEGEND - Topic   \n",
       "20716                                ONLY GIRL HARDSTYLE  SICK LEGEND - Topic   \n",
       "20717                                 MISS YOU HARDSTYLE  SICK LEGEND - Topic   \n",
       "\n",
       "             Views      Likes  Comments  \\\n",
       "0      693555221.0  6220896.0  169907.0   \n",
       "1       72011645.0  1079128.0   31003.0   \n",
       "2        8435055.0   282142.0    7399.0   \n",
       "3      211754952.0  1788577.0   55229.0   \n",
       "4      618480958.0  6197318.0  155930.0   \n",
       "...            ...        ...       ...   \n",
       "20713      71678.0     1113.0       0.0   \n",
       "20714     164741.0     2019.0       0.0   \n",
       "20715      35646.0      329.0       0.0   \n",
       "20716       6533.0       88.0       0.0   \n",
       "20717     158697.0     2484.0       0.0   \n",
       "\n",
       "                                             Description  Licensed  \\\n",
       "0      Official HD Video for Gorillaz' fantastic trac...      True   \n",
       "1      The official video for Gorillaz - Rhinestone E...      True   \n",
       "2      Gorillaz - New Gold ft. Tame Impala & Bootie B...      True   \n",
       "3      Follow Gorillaz online:\\nhttp://gorillaz.com \\...      True   \n",
       "4      The official music video for Gorillaz - Clint ...      True   \n",
       "...                                                  ...       ...   \n",
       "20713  Provided to YouTube by Routenote\\n\\nJUST DANCE...      True   \n",
       "20714  Provided to YouTube by Routenote\\n\\nSET FIRE T...      True   \n",
       "20715  Provided to YouTube by Routenote\\n\\nOUTSIDE HA...      True   \n",
       "20716  Provided to YouTube by Routenote\\n\\nONLY GIRL ...      True   \n",
       "20717  Provided to YouTube by Routenote\\n\\nMISS YOU H...      True   \n",
       "\n",
       "      official_video        Stream  \n",
       "0               True  1.040235e+09  \n",
       "1               True  3.100837e+08  \n",
       "2               True  6.306347e+07  \n",
       "3               True  4.346636e+08  \n",
       "4               True  6.172597e+08  \n",
       "...              ...           ...  \n",
       "20713           True  9.227144e+06  \n",
       "20714           True  1.089818e+07  \n",
       "20715           True  6.226110e+06  \n",
       "20716           True  6.873961e+06  \n",
       "20717           True  5.695584e+06  \n",
       "\n",
       "[20718 rows x 28 columns]"
      ]
     },
     "execution_count": 42,
     "metadata": {},
     "output_type": "execute_result"
    }
   ],
   "source": [
    "data=pd.read_csv(\"Spotify_Youtube.csv\") #посмотрим датасет. В нем 20 тысяч строчек, но мне это не должно помешать.\n",
    "data"
   ]
  },
  {
   "cell_type": "code",
   "execution_count": 5,
   "id": "f4df5e71",
   "metadata": {},
   "outputs": [
    {
     "name": "stdout",
     "output_type": "stream",
     "text": [
      "<class 'pandas.core.frame.DataFrame'>\n",
      "RangeIndex: 20718 entries, 0 to 20717\n",
      "Data columns (total 28 columns):\n",
      " #   Column            Non-Null Count  Dtype  \n",
      "---  ------            --------------  -----  \n",
      " 0   Unnamed: 0        20718 non-null  int64  \n",
      " 1   Artist            20718 non-null  object \n",
      " 2   Url_spotify       20718 non-null  object \n",
      " 3   Track             20718 non-null  object \n",
      " 4   Album             20718 non-null  object \n",
      " 5   Album_type        20718 non-null  object \n",
      " 6   Uri               20718 non-null  object \n",
      " 7   Danceability      20716 non-null  float64\n",
      " 8   Energy            20716 non-null  float64\n",
      " 9   Key               20716 non-null  float64\n",
      " 10  Loudness          20716 non-null  float64\n",
      " 11  Speechiness       20716 non-null  float64\n",
      " 12  Acousticness      20716 non-null  float64\n",
      " 13  Instrumentalness  20716 non-null  float64\n",
      " 14  Liveness          20716 non-null  float64\n",
      " 15  Valence           20716 non-null  float64\n",
      " 16  Tempo             20716 non-null  float64\n",
      " 17  Duration_ms       20716 non-null  float64\n",
      " 18  Url_youtube       20248 non-null  object \n",
      " 19  Title             20248 non-null  object \n",
      " 20  Channel           20248 non-null  object \n",
      " 21  Views             20248 non-null  float64\n",
      " 22  Likes             20177 non-null  float64\n",
      " 23  Comments          20149 non-null  float64\n",
      " 24  Description       19842 non-null  object \n",
      " 25  Licensed          20248 non-null  object \n",
      " 26  official_video    20248 non-null  object \n",
      " 27  Stream            20142 non-null  float64\n",
      "dtypes: float64(15), int64(1), object(12)\n",
      "memory usage: 4.4+ MB\n"
     ]
    }
   ],
   "source": [
    "data.info() #решила посмотреть типы данных, чтобы быть точно уверенной в том, с чем имею дело!"
   ]
  },
  {
   "cell_type": "markdown",
   "id": "36e29cda",
   "metadata": {},
   "source": [
    "# Названия ячеек:"
   ]
  },
  {
   "cell_type": "markdown",
   "id": "ca5a570a",
   "metadata": {},
   "source": [
    "\n",
    "Track - название песни, отображаемое на платформе Spotify.\n",
    "\n",
    "Artist - имя артиста.\n",
    "\n",
    "Url_spotify: URL-адрес исполнителя на Spotify.\n",
    "\n",
    "Album - альбом, в котором песня содержится на Spotify.\n",
    "\n",
    "Album_type - указывает, выпущена ли песня на Spotify как сингл или содержится в альбоме.\n",
    "\n",
    "Uri - ссылка Spotify, используемая для поиска песни через API.\n",
    "\n",
    "Danceability - описывает, насколько трек подходит для танцев, на основе комбинации музыкальных элементов, включая темп, стабильность ритма, силу ударов и общую регулярность. Значение 0,0 соответствует наименее танцевальному, а 1,0 — наиболее танцевальному.\n",
    "\n",
    "Energy - представляет собой меру от 0,0 до 1,0 и представляет собой перцептивную меру интенсивности и активности. Обычно энергичные треки кажутся быстрыми, громкими и шумными. Например, дэт-метал обладает высокой энергией, а прелюдия Баха имеет низкую оценку по шкале. Перцептивные характеристики, влияющие на этот атрибут, включают динамический диапазон, воспринимаемую громкость, тембр, скорость начала и общую энтропию.\n",
    "\n",
    "Key - тональность, в которой находится трек. Целые числа сопоставляются с высотой звука с использованием стандартной нотации класса высоты звука. Например. 0 = C, 1 = C♯/D♭, 2 = D и так далее. Если ключ не обнаружен, значение равно -1.\n",
    "\n",
    "Loudness - общая громкость трека в децибелах (дБ). Значения громкости усредняются по всей дорожке и полезны для сравнения относительной громкости дорожек. Громкость — это качество звука, которое является основным психологическим коррелятом физической силы (амплитуда). Значения обычно находятся в диапазоне от -60 до 0 дБ.\n",
    "\n",
    "Speechiness - определяет наличие произнесенных слов в треке. Чем больше запись похожа на речь (например, ток-шоу, аудиокнига, стихи), тем ближе к 1,0 значение атрибута. Значения выше 0,66 описывают треки, которые, вероятно, полностью состоят из произнесенных слов. Значения от 0,33 до 0,66 описывают треки, которые могут содержать как музыку, так и речь, либо в разделах, либо в слоях, включая такие случаи, как рэп-музыка. Значения ниже 0,33, скорее всего, соответствуют музыке и другим трекам, не похожим на речь.\n",
    "\n",
    "Acousticness - доверительная мера от 0,0 до 1,0 того, является ли трек акустическим. 1.0 означает высокую степень уверенности в том, что трек акустический.\n",
    "\n",
    "Instrumentalness - предсказывает, будет ли трек содержать вокал. Звуки «ох» и «аа» в этом контексте рассматриваются как инструментальные. Рэп или устные треки явно «вокальные». Чем ближе значение инструментальности к 1,0, тем больше вероятность того, что трек не содержит вокала. Значения выше 0,5 предназначены для представления инструментальных треков, но достоверность выше, когда значение приближается к 1,0.\n",
    "\n",
    "Liveness - обнаруживает присутствие аудитории в записи. Более высокие значения живости представляют собой повышенную вероятность того, что трек был исполнен вживую. Значение выше 0,8 обеспечивает высокую вероятность того, что трек активен.\n",
    "\n",
    "Valence - мера от 0,0 до 1,0, описывающая музыкальную позитивность, передаваемую треком. Треки с высокой валентностью звучат более позитивно (например, счастливые, веселые, эйфорические), тогда как треки с низкой валентностью звучат более негативно (например, грустные, депрессивные, злые).\n",
    "\n",
    "Tempo - общий расчетный темп трека в ударах в минуту (BPM). В музыкальной терминологии темп — это скорость или темп данного произведения, который напрямую зависит от средней длительности доли.\n",
    "\n",
    "Duration_ms - продолжительность трека в миллисекундах.\n",
    "\n",
    "Stream - количество прослушиваний песни на Spotify.\n",
    "\n",
    "Url_youtube- URL-адрес видео, связанного с песней на Youtube, если оно есть.\n",
    "\n",
    "Title - название видеоролика на YouTube.\n",
    "\n",
    "Channel - название канала, опубликовавшего видео.\n",
    "\n",
    "Views - количество просмотров.\n",
    "\n",
    "Likes - количество лайков.\n",
    "\n",
    "Comments - количество комментариев.\n",
    "\n",
    "Description - описание видео на Youtube.\n",
    "\n",
    "Licensed - указывает, представляет ли видео лицензионный контент. Это означает, что контент был загружен на канал, связанный с контент-партнером YouTube, а затем заявлен на него этим партнером.\n",
    "\n",
    "Official_video- логическое значение, указывающее, является ли найденное видео официальным видео песни.\n"
   ]
  },
  {
   "cell_type": "code",
   "execution_count": 6,
   "id": "a3d75808",
   "metadata": {},
   "outputs": [],
   "source": [
    "del data['Url_spotify']"
   ]
  },
  {
   "cell_type": "code",
   "execution_count": 7,
   "id": "f0c77690",
   "metadata": {},
   "outputs": [],
   "source": [
    "del data['Url_youtube']"
   ]
  },
  {
   "cell_type": "code",
   "execution_count": 8,
   "id": "340b55b0",
   "metadata": {},
   "outputs": [],
   "source": [
    "del data['Uri']"
   ]
  },
  {
   "cell_type": "code",
   "execution_count": 9,
   "id": "cc3c86f9",
   "metadata": {},
   "outputs": [],
   "source": [
    "del data['Description']"
   ]
  },
  {
   "cell_type": "code",
   "execution_count": 10,
   "id": "e022e793",
   "metadata": {},
   "outputs": [],
   "source": [
    "del data['Title']"
   ]
  },
  {
   "cell_type": "code",
   "execution_count": 11,
   "id": "af880bc6",
   "metadata": {},
   "outputs": [
    {
     "data": {
      "text/html": [
       "<div>\n",
       "<style scoped>\n",
       "    .dataframe tbody tr th:only-of-type {\n",
       "        vertical-align: middle;\n",
       "    }\n",
       "\n",
       "    .dataframe tbody tr th {\n",
       "        vertical-align: top;\n",
       "    }\n",
       "\n",
       "    .dataframe thead th {\n",
       "        text-align: right;\n",
       "    }\n",
       "</style>\n",
       "<table border=\"1\" class=\"dataframe\">\n",
       "  <thead>\n",
       "    <tr style=\"text-align: right;\">\n",
       "      <th></th>\n",
       "      <th>Unnamed: 0</th>\n",
       "      <th>Artist</th>\n",
       "      <th>Track</th>\n",
       "      <th>Album</th>\n",
       "      <th>Album_type</th>\n",
       "      <th>Danceability</th>\n",
       "      <th>Energy</th>\n",
       "      <th>Key</th>\n",
       "      <th>Loudness</th>\n",
       "      <th>Speechiness</th>\n",
       "      <th>...</th>\n",
       "      <th>Valence</th>\n",
       "      <th>Tempo</th>\n",
       "      <th>Duration_ms</th>\n",
       "      <th>Channel</th>\n",
       "      <th>Views</th>\n",
       "      <th>Likes</th>\n",
       "      <th>Comments</th>\n",
       "      <th>Licensed</th>\n",
       "      <th>official_video</th>\n",
       "      <th>Stream</th>\n",
       "    </tr>\n",
       "  </thead>\n",
       "  <tbody>\n",
       "    <tr>\n",
       "      <th>0</th>\n",
       "      <td>0</td>\n",
       "      <td>Gorillaz</td>\n",
       "      <td>Feel Good Inc.</td>\n",
       "      <td>Demon Days</td>\n",
       "      <td>album</td>\n",
       "      <td>0.818</td>\n",
       "      <td>0.705</td>\n",
       "      <td>6.0</td>\n",
       "      <td>-6.679</td>\n",
       "      <td>0.1770</td>\n",
       "      <td>...</td>\n",
       "      <td>0.772</td>\n",
       "      <td>138.559</td>\n",
       "      <td>222640.0</td>\n",
       "      <td>Gorillaz</td>\n",
       "      <td>693555221.0</td>\n",
       "      <td>6220896.0</td>\n",
       "      <td>169907.0</td>\n",
       "      <td>True</td>\n",
       "      <td>True</td>\n",
       "      <td>1.040235e+09</td>\n",
       "    </tr>\n",
       "    <tr>\n",
       "      <th>1</th>\n",
       "      <td>1</td>\n",
       "      <td>Gorillaz</td>\n",
       "      <td>Rhinestone Eyes</td>\n",
       "      <td>Plastic Beach</td>\n",
       "      <td>album</td>\n",
       "      <td>0.676</td>\n",
       "      <td>0.703</td>\n",
       "      <td>8.0</td>\n",
       "      <td>-5.815</td>\n",
       "      <td>0.0302</td>\n",
       "      <td>...</td>\n",
       "      <td>0.852</td>\n",
       "      <td>92.761</td>\n",
       "      <td>200173.0</td>\n",
       "      <td>Gorillaz</td>\n",
       "      <td>72011645.0</td>\n",
       "      <td>1079128.0</td>\n",
       "      <td>31003.0</td>\n",
       "      <td>True</td>\n",
       "      <td>True</td>\n",
       "      <td>3.100837e+08</td>\n",
       "    </tr>\n",
       "    <tr>\n",
       "      <th>2</th>\n",
       "      <td>2</td>\n",
       "      <td>Gorillaz</td>\n",
       "      <td>New Gold (feat. Tame Impala and Bootie Brown)</td>\n",
       "      <td>New Gold (feat. Tame Impala and Bootie Brown)</td>\n",
       "      <td>single</td>\n",
       "      <td>0.695</td>\n",
       "      <td>0.923</td>\n",
       "      <td>1.0</td>\n",
       "      <td>-3.930</td>\n",
       "      <td>0.0522</td>\n",
       "      <td>...</td>\n",
       "      <td>0.551</td>\n",
       "      <td>108.014</td>\n",
       "      <td>215150.0</td>\n",
       "      <td>Gorillaz</td>\n",
       "      <td>8435055.0</td>\n",
       "      <td>282142.0</td>\n",
       "      <td>7399.0</td>\n",
       "      <td>True</td>\n",
       "      <td>True</td>\n",
       "      <td>6.306347e+07</td>\n",
       "    </tr>\n",
       "    <tr>\n",
       "      <th>3</th>\n",
       "      <td>3</td>\n",
       "      <td>Gorillaz</td>\n",
       "      <td>On Melancholy Hill</td>\n",
       "      <td>Plastic Beach</td>\n",
       "      <td>album</td>\n",
       "      <td>0.689</td>\n",
       "      <td>0.739</td>\n",
       "      <td>2.0</td>\n",
       "      <td>-5.810</td>\n",
       "      <td>0.0260</td>\n",
       "      <td>...</td>\n",
       "      <td>0.578</td>\n",
       "      <td>120.423</td>\n",
       "      <td>233867.0</td>\n",
       "      <td>Gorillaz</td>\n",
       "      <td>211754952.0</td>\n",
       "      <td>1788577.0</td>\n",
       "      <td>55229.0</td>\n",
       "      <td>True</td>\n",
       "      <td>True</td>\n",
       "      <td>4.346636e+08</td>\n",
       "    </tr>\n",
       "    <tr>\n",
       "      <th>4</th>\n",
       "      <td>4</td>\n",
       "      <td>Gorillaz</td>\n",
       "      <td>Clint Eastwood</td>\n",
       "      <td>Gorillaz</td>\n",
       "      <td>album</td>\n",
       "      <td>0.663</td>\n",
       "      <td>0.694</td>\n",
       "      <td>10.0</td>\n",
       "      <td>-8.627</td>\n",
       "      <td>0.1710</td>\n",
       "      <td>...</td>\n",
       "      <td>0.525</td>\n",
       "      <td>167.953</td>\n",
       "      <td>340920.0</td>\n",
       "      <td>Gorillaz</td>\n",
       "      <td>618480958.0</td>\n",
       "      <td>6197318.0</td>\n",
       "      <td>155930.0</td>\n",
       "      <td>True</td>\n",
       "      <td>True</td>\n",
       "      <td>6.172597e+08</td>\n",
       "    </tr>\n",
       "  </tbody>\n",
       "</table>\n",
       "<p>5 rows × 23 columns</p>\n",
       "</div>"
      ],
      "text/plain": [
       "   Unnamed: 0    Artist                                          Track  \\\n",
       "0           0  Gorillaz                                 Feel Good Inc.   \n",
       "1           1  Gorillaz                                Rhinestone Eyes   \n",
       "2           2  Gorillaz  New Gold (feat. Tame Impala and Bootie Brown)   \n",
       "3           3  Gorillaz                             On Melancholy Hill   \n",
       "4           4  Gorillaz                                 Clint Eastwood   \n",
       "\n",
       "                                           Album Album_type  Danceability  \\\n",
       "0                                     Demon Days      album         0.818   \n",
       "1                                  Plastic Beach      album         0.676   \n",
       "2  New Gold (feat. Tame Impala and Bootie Brown)     single         0.695   \n",
       "3                                  Plastic Beach      album         0.689   \n",
       "4                                       Gorillaz      album         0.663   \n",
       "\n",
       "   Energy   Key  Loudness  Speechiness  ...  Valence    Tempo  Duration_ms  \\\n",
       "0   0.705   6.0    -6.679       0.1770  ...    0.772  138.559     222640.0   \n",
       "1   0.703   8.0    -5.815       0.0302  ...    0.852   92.761     200173.0   \n",
       "2   0.923   1.0    -3.930       0.0522  ...    0.551  108.014     215150.0   \n",
       "3   0.739   2.0    -5.810       0.0260  ...    0.578  120.423     233867.0   \n",
       "4   0.694  10.0    -8.627       0.1710  ...    0.525  167.953     340920.0   \n",
       "\n",
       "    Channel        Views      Likes  Comments  Licensed  official_video  \\\n",
       "0  Gorillaz  693555221.0  6220896.0  169907.0      True            True   \n",
       "1  Gorillaz   72011645.0  1079128.0   31003.0      True            True   \n",
       "2  Gorillaz    8435055.0   282142.0    7399.0      True            True   \n",
       "3  Gorillaz  211754952.0  1788577.0   55229.0      True            True   \n",
       "4  Gorillaz  618480958.0  6197318.0  155930.0      True            True   \n",
       "\n",
       "         Stream  \n",
       "0  1.040235e+09  \n",
       "1  3.100837e+08  \n",
       "2  6.306347e+07  \n",
       "3  4.346636e+08  \n",
       "4  6.172597e+08  \n",
       "\n",
       "[5 rows x 23 columns]"
      ]
     },
     "execution_count": 11,
     "metadata": {},
     "output_type": "execute_result"
    }
   ],
   "source": [
    "data.head()"
   ]
  },
  {
   "cell_type": "markdown",
   "id": "2dd9a0d3",
   "metadata": {},
   "source": [
    "Я удалила столбцы, которые посчитала нерелевантными для анализа"
   ]
  },
  {
   "cell_type": "code",
   "execution_count": 12,
   "id": "53381e52",
   "metadata": {},
   "outputs": [
    {
     "data": {
      "text/plain": [
       "0.6197774522108509"
      ]
     },
     "execution_count": 12,
     "metadata": {},
     "output_type": "execute_result"
    }
   ],
   "source": [
    "data['Danceability'].mean() #средний показатель танцевальности "
   ]
  },
  {
   "cell_type": "code",
   "execution_count": 13,
   "id": "2958f9f5",
   "metadata": {},
   "outputs": [
    {
     "data": {
      "text/plain": [
       "0    0.572\n",
       "Name: Energy, dtype: float64"
      ]
     },
     "execution_count": 13,
     "metadata": {},
     "output_type": "execute_result"
    }
   ],
   "source": [
    "data['Energy'].mode()  #самый часто встречающийся показатель энергичности трека"
   ]
  },
  {
   "cell_type": "code",
   "execution_count": 14,
   "id": "2aac2a5c",
   "metadata": {},
   "outputs": [
    {
     "data": {
      "text/plain": [
       "0    Greatest Hits\n",
       "Name: Album, dtype: object"
      ]
     },
     "execution_count": 14,
     "metadata": {},
     "output_type": "execute_result"
    }
   ],
   "source": [
    "data['Album'].mode() #самый часто встречающийся альбом в датасете Greatest Hits, скорее всего, по той причине, что он есть у разных артистов как сборник самых великих песен."
   ]
  },
  {
   "cell_type": "code",
   "execution_count": 15,
   "id": "0175ac96",
   "metadata": {},
   "outputs": [
    {
     "data": {
      "text/plain": [
       "663341.0613074292"
      ]
     },
     "execution_count": 15,
     "metadata": {},
     "output_type": "execute_result"
    }
   ],
   "source": [
    "data['Likes'].mean() #узнала среднее количество лайков на музыкальных видео"
   ]
  },
  {
   "cell_type": "code",
   "execution_count": 16,
   "id": "fc33a449",
   "metadata": {},
   "outputs": [
    {
     "data": {
      "text/plain": [
       "663341.0"
      ]
     },
     "execution_count": 16,
     "metadata": {},
     "output_type": "execute_result"
    }
   ],
   "source": [
    "round(663341.0613074292, 0)"
   ]
  },
  {
   "cell_type": "code",
   "execution_count": 17,
   "id": "0f519328",
   "metadata": {},
   "outputs": [
    {
     "data": {
      "text/html": [
       "<div>\n",
       "<style scoped>\n",
       "    .dataframe tbody tr th:only-of-type {\n",
       "        vertical-align: middle;\n",
       "    }\n",
       "\n",
       "    .dataframe tbody tr th {\n",
       "        vertical-align: top;\n",
       "    }\n",
       "\n",
       "    .dataframe thead th {\n",
       "        text-align: right;\n",
       "    }\n",
       "</style>\n",
       "<table border=\"1\" class=\"dataframe\">\n",
       "  <thead>\n",
       "    <tr style=\"text-align: right;\">\n",
       "      <th></th>\n",
       "      <th>Unnamed: 0</th>\n",
       "      <th>Artist</th>\n",
       "      <th>Track</th>\n",
       "      <th>Album</th>\n",
       "      <th>Album_type</th>\n",
       "      <th>Danceability</th>\n",
       "      <th>Energy</th>\n",
       "      <th>Key</th>\n",
       "      <th>Loudness</th>\n",
       "      <th>Speechiness</th>\n",
       "      <th>...</th>\n",
       "      <th>Tempo</th>\n",
       "      <th>Duration_ms</th>\n",
       "      <th>Channel</th>\n",
       "      <th>Views</th>\n",
       "      <th>Likes</th>\n",
       "      <th>Comments</th>\n",
       "      <th>Licensed</th>\n",
       "      <th>official_video</th>\n",
       "      <th>Stream</th>\n",
       "      <th>success</th>\n",
       "    </tr>\n",
       "  </thead>\n",
       "  <tbody>\n",
       "    <tr>\n",
       "      <th>0</th>\n",
       "      <td>0</td>\n",
       "      <td>Gorillaz</td>\n",
       "      <td>Feel Good Inc.</td>\n",
       "      <td>Demon Days</td>\n",
       "      <td>album</td>\n",
       "      <td>0.818</td>\n",
       "      <td>0.705</td>\n",
       "      <td>6.0</td>\n",
       "      <td>-6.679</td>\n",
       "      <td>0.1770</td>\n",
       "      <td>...</td>\n",
       "      <td>138.559</td>\n",
       "      <td>222640.0</td>\n",
       "      <td>Gorillaz</td>\n",
       "      <td>693555221.0</td>\n",
       "      <td>6220896.0</td>\n",
       "      <td>169907.0</td>\n",
       "      <td>True</td>\n",
       "      <td>True</td>\n",
       "      <td>1.040235e+09</td>\n",
       "      <td>1</td>\n",
       "    </tr>\n",
       "    <tr>\n",
       "      <th>1</th>\n",
       "      <td>1</td>\n",
       "      <td>Gorillaz</td>\n",
       "      <td>Rhinestone Eyes</td>\n",
       "      <td>Plastic Beach</td>\n",
       "      <td>album</td>\n",
       "      <td>0.676</td>\n",
       "      <td>0.703</td>\n",
       "      <td>8.0</td>\n",
       "      <td>-5.815</td>\n",
       "      <td>0.0302</td>\n",
       "      <td>...</td>\n",
       "      <td>92.761</td>\n",
       "      <td>200173.0</td>\n",
       "      <td>Gorillaz</td>\n",
       "      <td>72011645.0</td>\n",
       "      <td>1079128.0</td>\n",
       "      <td>31003.0</td>\n",
       "      <td>True</td>\n",
       "      <td>True</td>\n",
       "      <td>3.100837e+08</td>\n",
       "      <td>1</td>\n",
       "    </tr>\n",
       "    <tr>\n",
       "      <th>2</th>\n",
       "      <td>2</td>\n",
       "      <td>Gorillaz</td>\n",
       "      <td>New Gold (feat. Tame Impala and Bootie Brown)</td>\n",
       "      <td>New Gold (feat. Tame Impala and Bootie Brown)</td>\n",
       "      <td>single</td>\n",
       "      <td>0.695</td>\n",
       "      <td>0.923</td>\n",
       "      <td>1.0</td>\n",
       "      <td>-3.930</td>\n",
       "      <td>0.0522</td>\n",
       "      <td>...</td>\n",
       "      <td>108.014</td>\n",
       "      <td>215150.0</td>\n",
       "      <td>Gorillaz</td>\n",
       "      <td>8435055.0</td>\n",
       "      <td>282142.0</td>\n",
       "      <td>7399.0</td>\n",
       "      <td>True</td>\n",
       "      <td>True</td>\n",
       "      <td>6.306347e+07</td>\n",
       "      <td>0</td>\n",
       "    </tr>\n",
       "    <tr>\n",
       "      <th>3</th>\n",
       "      <td>3</td>\n",
       "      <td>Gorillaz</td>\n",
       "      <td>On Melancholy Hill</td>\n",
       "      <td>Plastic Beach</td>\n",
       "      <td>album</td>\n",
       "      <td>0.689</td>\n",
       "      <td>0.739</td>\n",
       "      <td>2.0</td>\n",
       "      <td>-5.810</td>\n",
       "      <td>0.0260</td>\n",
       "      <td>...</td>\n",
       "      <td>120.423</td>\n",
       "      <td>233867.0</td>\n",
       "      <td>Gorillaz</td>\n",
       "      <td>211754952.0</td>\n",
       "      <td>1788577.0</td>\n",
       "      <td>55229.0</td>\n",
       "      <td>True</td>\n",
       "      <td>True</td>\n",
       "      <td>4.346636e+08</td>\n",
       "      <td>1</td>\n",
       "    </tr>\n",
       "    <tr>\n",
       "      <th>4</th>\n",
       "      <td>4</td>\n",
       "      <td>Gorillaz</td>\n",
       "      <td>Clint Eastwood</td>\n",
       "      <td>Gorillaz</td>\n",
       "      <td>album</td>\n",
       "      <td>0.663</td>\n",
       "      <td>0.694</td>\n",
       "      <td>10.0</td>\n",
       "      <td>-8.627</td>\n",
       "      <td>0.1710</td>\n",
       "      <td>...</td>\n",
       "      <td>167.953</td>\n",
       "      <td>340920.0</td>\n",
       "      <td>Gorillaz</td>\n",
       "      <td>618480958.0</td>\n",
       "      <td>6197318.0</td>\n",
       "      <td>155930.0</td>\n",
       "      <td>True</td>\n",
       "      <td>True</td>\n",
       "      <td>6.172597e+08</td>\n",
       "      <td>1</td>\n",
       "    </tr>\n",
       "  </tbody>\n",
       "</table>\n",
       "<p>5 rows × 24 columns</p>\n",
       "</div>"
      ],
      "text/plain": [
       "   Unnamed: 0    Artist                                          Track  \\\n",
       "0           0  Gorillaz                                 Feel Good Inc.   \n",
       "1           1  Gorillaz                                Rhinestone Eyes   \n",
       "2           2  Gorillaz  New Gold (feat. Tame Impala and Bootie Brown)   \n",
       "3           3  Gorillaz                             On Melancholy Hill   \n",
       "4           4  Gorillaz                                 Clint Eastwood   \n",
       "\n",
       "                                           Album Album_type  Danceability  \\\n",
       "0                                     Demon Days      album         0.818   \n",
       "1                                  Plastic Beach      album         0.676   \n",
       "2  New Gold (feat. Tame Impala and Bootie Brown)     single         0.695   \n",
       "3                                  Plastic Beach      album         0.689   \n",
       "4                                       Gorillaz      album         0.663   \n",
       "\n",
       "   Energy   Key  Loudness  Speechiness  ...    Tempo  Duration_ms   Channel  \\\n",
       "0   0.705   6.0    -6.679       0.1770  ...  138.559     222640.0  Gorillaz   \n",
       "1   0.703   8.0    -5.815       0.0302  ...   92.761     200173.0  Gorillaz   \n",
       "2   0.923   1.0    -3.930       0.0522  ...  108.014     215150.0  Gorillaz   \n",
       "3   0.739   2.0    -5.810       0.0260  ...  120.423     233867.0  Gorillaz   \n",
       "4   0.694  10.0    -8.627       0.1710  ...  167.953     340920.0  Gorillaz   \n",
       "\n",
       "         Views      Likes  Comments Licensed  official_video        Stream  \\\n",
       "0  693555221.0  6220896.0  169907.0     True            True  1.040235e+09   \n",
       "1   72011645.0  1079128.0   31003.0     True            True  3.100837e+08   \n",
       "2    8435055.0   282142.0    7399.0     True            True  6.306347e+07   \n",
       "3  211754952.0  1788577.0   55229.0     True            True  4.346636e+08   \n",
       "4  618480958.0  6197318.0  155930.0     True            True  6.172597e+08   \n",
       "\n",
       "   success  \n",
       "0        1  \n",
       "1        1  \n",
       "2        0  \n",
       "3        1  \n",
       "4        1  \n",
       "\n",
       "[5 rows x 24 columns]"
      ]
     },
     "execution_count": 17,
     "metadata": {},
     "output_type": "execute_result"
    }
   ],
   "source": [
    "def success_p(x):\n",
    "    if x>=663341:\n",
    "        return '1'\n",
    "    else:\n",
    "        return 0\n",
    "data ['success'] = data['Likes'].apply(success_p)\n",
    "data.head()"
   ]
  },
  {
   "cell_type": "code",
   "execution_count": 18,
   "id": "fbf111d3",
   "metadata": {},
   "outputs": [],
   "source": [
    "#создала новый столбец success, который включает в себя бинарные данные, 1 - если лайков на видео больше среднего, 0 - если лайков меньше среднего"
   ]
  },
  {
   "cell_type": "code",
   "execution_count": 19,
   "id": "c819d7af",
   "metadata": {},
   "outputs": [
    {
     "data": {
      "text/plain": [
       "0    16433\n",
       "1     4285\n",
       "Name: success, dtype: int64"
      ]
     },
     "execution_count": 19,
     "metadata": {},
     "output_type": "execute_result"
    }
   ],
   "source": [
    "data['success'].value_counts() #вывод - большинство музыкальных видео имеют количество лайков меньше среднего"
   ]
  },
  {
   "cell_type": "code",
   "execution_count": 20,
   "id": "48d00784",
   "metadata": {},
   "outputs": [
    {
     "data": {
      "text/plain": [
       "2079"
      ]
     },
     "execution_count": 20,
     "metadata": {},
     "output_type": "execute_result"
    }
   ],
   "source": [
    "data['Artist'].nunique() #количество уникальных артиcтов в датасете - 2079"
   ]
  },
  {
   "cell_type": "code",
   "execution_count": 21,
   "id": "29b2b4ad",
   "metadata": {},
   "outputs": [
    {
     "data": {
      "text/plain": [
       "7"
      ]
     },
     "execution_count": 21,
     "metadata": {},
     "output_type": "execute_result"
    }
   ],
   "source": [
    "data[(data['Artist']=='Gorillaz')&(data['success']=='1')].shape[0] #например, у Gorillaz количество видео c количеством лайков больше среднего - 7 штук"
   ]
  },
  {
   "cell_type": "code",
   "execution_count": 22,
   "id": "f90900e1",
   "metadata": {},
   "outputs": [
    {
     "data": {
      "text/plain": [
       "Album_type\n",
       "compilation    117.489808\n",
       "album          120.579003\n",
       "single         121.311118\n",
       "Name: Tempo, dtype: float64"
      ]
     },
     "execution_count": 22,
     "metadata": {},
     "output_type": "execute_result"
    }
   ],
   "source": [
    "data.groupby('Album_type')['Tempo'].mean().sort_values() #в среднем, темп песен, которые вышли только в формате сингла выше, чем у тех, которые вышли в альбоме или и там, и там."
   ]
  },
  {
   "cell_type": "code",
   "execution_count": 23,
   "id": "6b4872f9",
   "metadata": {},
   "outputs": [
    {
     "data": {
      "text/plain": [
       "Artist\n",
       "Sleepy Penguin            0.001440\n",
       "Rain Fruits Sounds        0.004981\n",
       "Ocean Sounds              0.005912\n",
       "Ocean Waves For Sleep     0.006232\n",
       "White Noise Baby Sleep    0.009211\n",
       "                            ...   \n",
       "Valentín Elizalde         0.924400\n",
       "Mi Banda El Mexicano      0.929400\n",
       "Banda Los Recoditos       0.938600\n",
       "Banda Machos              0.945500\n",
       "Grupo Laberinto           0.948300\n",
       "Name: Valence, Length: 2079, dtype: float64"
      ]
     },
     "execution_count": 23,
     "metadata": {},
     "output_type": "execute_result"
    }
   ],
   "source": [
    "data.groupby('Artist')['Valence'].mean().sort_values()#артист с самым высоким средним показателем позивности песен - Grupo Laberinto, а самые депрессивные песни у Sleepy Penguin "
   ]
  },
  {
   "cell_type": "code",
   "execution_count": 24,
   "id": "543b8b74",
   "metadata": {},
   "outputs": [
    {
     "data": {
      "text/plain": [
       "Artist\n",
       "In Flames              0.000050\n",
       "Killswitch Engage      0.000132\n",
       "Motionless In White    0.000166\n",
       "Volbeat                0.000220\n",
       "Youjeen                0.000334\n",
       "                         ...   \n",
       "Lang Lang              0.989100\n",
       "Edvard Grieg           0.989500\n",
       "Frédéric Chopin        0.990200\n",
       "Robert Schumann        0.992500\n",
       "Claude Debussy         0.993600\n",
       "Name: Acousticness, Length: 2079, dtype: float64"
      ]
     },
     "execution_count": 24,
     "metadata": {},
     "output_type": "execute_result"
    }
   ],
   "source": [
    "data.groupby('Artist')['Acousticness'].mean().sort_values() #артист с самым высоким показателем акустичности песен Claude Debussy(композитор)"
   ]
  },
  {
   "cell_type": "code",
   "execution_count": 25,
   "id": "0503f108",
   "metadata": {},
   "outputs": [
    {
     "name": "stdout",
     "output_type": "stream",
     "text": [
      "10\n"
     ]
    }
   ],
   "source": [
    "search_list=data['Artist'].tolist()\n",
    "counter = 0\n",
    "for i in range(len(search_list)):\n",
    "    if(\"Claude Debussy\") in search_list[i]: \n",
    "        counter += 1\n",
    "print(counter)"
   ]
  },
  {
   "cell_type": "markdown",
   "id": "303a519b",
   "metadata": {},
   "source": [
    "Всего предоставленных композиций Claude Debussy - 10 штук"
   ]
  },
  {
   "cell_type": "code",
   "execution_count": 27,
   "id": "5281957e",
   "metadata": {},
   "outputs": [],
   "source": [
    "#кстати, можно заметить, что в целом, самые высокие показатели акустичности у композиторов(все 5 имеют инструментальную музыку, без слов)"
   ]
  },
  {
   "cell_type": "code",
   "execution_count": 28,
   "id": "493d526d",
   "metadata": {},
   "outputs": [
    {
     "data": {
      "text/plain": [
       "3277.0"
      ]
     },
     "execution_count": 28,
     "metadata": {},
     "output_type": "execute_result"
    }
   ],
   "source": [
    "data['Comments'].median()"
   ]
  },
  {
   "cell_type": "code",
   "execution_count": 29,
   "id": "9ab4a1c7",
   "metadata": {},
   "outputs": [
    {
     "data": {
      "text/plain": [
       "0    0.0\n",
       "Name: Comments, dtype: float64"
      ]
     },
     "execution_count": 29,
     "metadata": {},
     "output_type": "execute_result"
    }
   ],
   "source": [
    "data['Comments'].mode()"
   ]
  },
  {
   "cell_type": "code",
   "execution_count": 30,
   "id": "78f45900",
   "metadata": {},
   "outputs": [
    {
     "data": {
      "text/plain": [
       "27518.993696957667"
      ]
     },
     "execution_count": 30,
     "metadata": {},
     "output_type": "execute_result"
    }
   ],
   "source": [
    "data['Comments'].mean()"
   ]
  },
  {
   "cell_type": "markdown",
   "id": "ae269350",
   "metadata": {},
   "source": [
    "Известное правило, что если медиана меньше среднего значения(а у нас она сильно меньше), то это значит, что в данных присутствуют аномально низкие значения. Свизаулизируем ящик с усами, чтобы оценить это.   "
   ]
  },
  {
   "cell_type": "markdown",
   "id": "48adc78b",
   "metadata": {},
   "source": [
    "# Выбросы"
   ]
  },
  {
   "cell_type": "code",
   "execution_count": 31,
   "id": "5e98b942",
   "metadata": {},
   "outputs": [
    {
     "data": {
      "image/png": "[encoded data removed]",
      "text/plain": [
       "<Figure size 640x480 with 1 Axes>"
      ]
     },
     "metadata": {},
     "output_type": "display_data"
    }
   ],
   "source": [
    "data['Comments'].plot(kind='box', vert=False,  title='Ящик с усами по переменной Comments', color='crimson', xlabel='количество комментариев').set_facecolor('seashell')"
   ]
  },
  {
   "cell_type": "markdown",
   "id": "7f2158eb",
   "metadata": {},
   "source": [
    "Действительно, выбросов очень много(от красной линии, ящик почему-то не свизуализировался:((), что свидетельствует о влиянии на среднее значение. "
   ]
  },
  {
   "cell_type": "markdown",
   "id": "9c0f1886",
   "metadata": {},
   "source": [
    "Мне стало интересно, коррелируют ли количество просмотров музыкальных видео с количеством лайков под этими видео. Чтобы это понять мне нужно узнать коэффицент корреляции. "
   ]
  },
  {
   "cell_type": "markdown",
   "id": "35c5d51c",
   "metadata": {},
   "source": [
    "# Корреляция"
   ]
  },
  {
   "cell_type": "code",
   "execution_count": 32,
   "id": "24960cef",
   "metadata": {},
   "outputs": [
    {
     "data": {
      "text/html": [
       "<div>\n",
       "<style scoped>\n",
       "    .dataframe tbody tr th:only-of-type {\n",
       "        vertical-align: middle;\n",
       "    }\n",
       "\n",
       "    .dataframe tbody tr th {\n",
       "        vertical-align: top;\n",
       "    }\n",
       "\n",
       "    .dataframe thead th {\n",
       "        text-align: right;\n",
       "    }\n",
       "</style>\n",
       "<table border=\"1\" class=\"dataframe\">\n",
       "  <thead>\n",
       "    <tr style=\"text-align: right;\">\n",
       "      <th></th>\n",
       "      <th>Views</th>\n",
       "      <th>Likes</th>\n",
       "    </tr>\n",
       "  </thead>\n",
       "  <tbody>\n",
       "    <tr>\n",
       "      <th>Views</th>\n",
       "      <td>1.00</td>\n",
       "      <td>0.89</td>\n",
       "    </tr>\n",
       "    <tr>\n",
       "      <th>Likes</th>\n",
       "      <td>0.89</td>\n",
       "      <td>1.00</td>\n",
       "    </tr>\n",
       "  </tbody>\n",
       "</table>\n",
       "</div>"
      ],
      "text/plain": [
       "       Views  Likes\n",
       "Views   1.00   0.89\n",
       "Likes   0.89   1.00"
      ]
     },
     "execution_count": 32,
     "metadata": {},
     "output_type": "execute_result"
    }
   ],
   "source": [
    "data[['Views', 'Likes']].corr().round(2)"
   ]
  },
  {
   "cell_type": "markdown",
   "id": "63f7bc77",
   "metadata": {},
   "source": [
    "Действительно, коэффицент корреляции довольно высок. "
   ]
  },
  {
   "cell_type": "code",
   "execution_count": 33,
   "id": "a4979197",
   "metadata": {},
   "outputs": [
    {
     "data": {
      "text/plain": [
       "<AxesSubplot:xlabel='Views', ylabel='Likes'>"
      ]
     },
     "execution_count": 33,
     "metadata": {},
     "output_type": "execute_result"
    },
    {
     "data": {
      "image/png": "[encoded data removed]",
      "text/plain": [
       "<Figure size 640x480 with 1 Axes>"
      ]
     },
     "metadata": {},
     "output_type": "display_data"
    }
   ],
   "source": [
    "data.plot('Views', 'Likes', kind='scatter')"
   ]
  },
  {
   "cell_type": "markdown",
   "id": "170b34a6",
   "metadata": {},
   "source": [
    "В целом, наблюдается сильная линейная зависимость."
   ]
  },
  {
   "cell_type": "code",
   "execution_count": 34,
   "id": "567c8f59",
   "metadata": {},
   "outputs": [
    {
     "data": {
      "text/plain": [
       "0.92"
      ]
     },
     "execution_count": 34,
     "metadata": {},
     "output_type": "execute_result"
    }
   ],
   "source": [
    "data['Loudness'].max() #узнали максимальную громкость в нашем датасете!"
   ]
  },
  {
   "cell_type": "code",
   "execution_count": 35,
   "id": "1867e072",
   "metadata": {},
   "outputs": [
    {
     "data": {
      "text/plain": [
       "-46.251"
      ]
     },
     "execution_count": 35,
     "metadata": {},
     "output_type": "execute_result"
    }
   ],
   "source": [
    "data['Loudness'].min() #узнали миниальную громкость в нашем датасете! "
   ]
  },
  {
   "cell_type": "code",
   "execution_count": 36,
   "id": "846e0b17",
   "metadata": {},
   "outputs": [
    {
     "data": {
      "text/plain": [
       "0    0.0\n",
       "Name: Key, dtype: float64"
      ]
     },
     "execution_count": 36,
     "metadata": {},
     "output_type": "execute_result"
    }
   ],
   "source": [
    "data['Key'].mode()"
   ]
  },
  {
   "cell_type": "markdown",
   "id": "19300dd6",
   "metadata": {},
   "source": [
    "Я узнала, что самой популярной тональностью является 0, т.е. С - до мажор. Давайте посчитаем, сколько песен имеет каждая тональность!"
   ]
  },
  {
   "cell_type": "code",
   "execution_count": 43,
   "id": "c9c65052",
   "metadata": {},
   "outputs": [
    {
     "data": {
      "text/plain": [
       "0.0     2305\n",
       "7.0     2252\n",
       "1.0     2211\n",
       "2.0     2021\n",
       "9.0     1979\n",
       "5.0     1731\n",
       "11.0    1667\n",
       "4.0     1515\n",
       "8.0     1483\n",
       "6.0     1443\n",
       "10.0    1439\n",
       "3.0      670\n",
       "Name: Key, dtype: int64"
      ]
     },
     "execution_count": 43,
     "metadata": {},
     "output_type": "execute_result"
    }
   ],
   "source": [
    "data['Key'].value_counts()"
   ]
  },
  {
   "cell_type": "markdown",
   "id": "9bbd5d12",
   "metadata": {},
   "source": [
    "В самой популярной тональности до мажор написаны 2305 песен из этого датасета."
   ]
  },
  {
   "cell_type": "markdown",
   "id": "07fe09f5",
   "metadata": {},
   "source": [
    "# Общая информация:"
   ]
  },
  {
   "cell_type": "markdown",
   "id": "678b60ff",
   "metadata": {},
   "source": [
    "Данные были взяты с сайта Kaggle. Они были опубликованы со свободной лицензией. "
   ]
  },
  {
   "cell_type": "code",
   "execution_count": null,
   "id": "f588b5f4",
   "metadata": {},
   "outputs": [],
   "source": []
  }
 ],
 "metadata": {
  "kernelspec": {
   "display_name": "Python 3 (ipykernel)",
   "language": "python",
   "name": "python3"
  },
  "language_info": {
   "codemirror_mode": {
    "name": "ipython",
    "version": 3
   },
   "file_extension": ".py",
   "mimetype": "text/x-python",
   "name": "python",
   "nbconvert_exporter": "python",
   "pygments_lexer": "ipython3",
   "version": "3.9.13"
  }
 },
 "nbformat": 4,
 "nbformat_minor": 5
}
